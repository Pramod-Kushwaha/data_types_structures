{
  "nbformat": 4,
  "nbformat_minor": 0,
  "metadata": {
    "colab": {
      "provenance": []
    },
    "kernelspec": {
      "name": "python3",
      "display_name": "Python 3"
    },
    "language_info": {
      "name": "python"
    }
  },
  "cells": [
    {
      "cell_type": "markdown",
      "source": [
        "#Data Structure"
      ],
      "metadata": {
        "id": "rvoir7XyyTRM"
      }
    },
    {
      "cell_type": "markdown",
      "source": [
        "1. What are data structures, and why are they important?\n",
        "   - Data structures are specialized formats or containers used to store and organize data efficiently.\n",
        "   - They are important because they provide various ways to store, access, and manipulate data according to specific needs.\n",
        "    \n",
        "     **Example:** A String is used to store and manipulate text data, like storing a name or password in a program.\n",
        "\n",
        "2. Explain the difference between mutable and immutable data types with examples?\n",
        "   - **Mutable data type :** Mutable data type values can be changed or modified after creation without creating a new object. The changes occur in the same memory location.\n",
        "   Example: List, Dictionary, Set.\n",
        "   - **Immutable data type :** Immutable data type values cannot be changed once created. Any modification creates a new object.\n",
        "   Example: Tuple, String.\n",
        "3. What are the main differences between lists and tuples in Python?\n",
        "   -  The main difference between lists and tuples is List is a mutable data type. It is defined using [ ] (square brackets) and Tuple is a Immutable data type. It is defined using ( ) (parentheses).\n",
        "\n",
        "4. Describe how dictionaries store data?\n",
        "   - Dictionaries in Python store data in the form of key-value pairs. Each key is unique and maps to a specific value, allowing for fast data retrieval.\n",
        "\n",
        "5. Why might you use a set instead of a list in Python?\n",
        "   - You might use a set instead of a list in Python when you need to store unique values and perform faster lookups.\n",
        "Sets automatically remove duplicates.\n",
        "\n",
        "6. What is a string in Python, and how is it different from a list?\n",
        "   - A string in Python is a sequence of characters enclosed in single, double, or triple quotes. It is an immutable data type, meaning its values cannot be changed after creation.\n",
        "   - List is a collection of elements enclosed in [ ]. It is different from a string because it is mutable, meaning its values can be changed after creation.\n",
        "\n",
        "7. How do tuples ensure data integrity in Python?\n",
        "   - Tuples ensure data integrity in Python by being immutable, their values cannot be changed after creation.\n",
        "\n",
        "8. What is a hash table, and how does it relate to dictionaries in Python?\n",
        "   - A hash table is a data structure that stores data in key-value pairs using a hashing mechanism.\n",
        "   -It is relate to dictionaries because In Python, dictionaries are implemented using hash tables, allowing for efficient data retrieval with an average time complexity of O(1).\n",
        "\n",
        "9. Can lists contain different data types in Python?\n",
        "   - Yes, in Python, lists can contain different data types. we can store integers, floats, strings, booleans in a single list.\n",
        "\n",
        "10. Explain why strings are immutable in Python?\n",
        "    - Strings are immutable in Python because they are stored in memory as a sequence of characters that cannot be changed once created.\n",
        "\n",
        "11. What advantages do dictionaries offer over lists for certain tasks?\n",
        "    - **Advantages of Dictionaries over Lists**\n",
        "      * **Faster search:** Dictionaries find values quickly using keys, while lists take longer.\n",
        "\n",
        "      * **Key-value pairs:** Dictionaries store data in key-value form, making it easier to access.\n",
        "\n",
        "      * **Better data organization:** Useful for storing related information together.\n",
        "\n",
        "      * **Unique keys:** Keys in dictionaries are unique, avoiding duplicates.\n",
        "\n",
        "12.  Describe a scenario where using a tuple would be preferable over a list.\n",
        "     - Tuples are preferable when we want to store fixed, unchangeable data to ensure data integrity.\n",
        "     For example, Aadhar numbers, employee IDs, and bank account numbers are unique and unchangeable data. To ensure they remain constant and cannot be accidentally modified, it is better to store them in a tuple.\n",
        "\n",
        "13. How do sets handle duplicate values in Python?\n",
        "    - Sets automatically remove duplicate values. When we add duplicate elements to a set, it keeps only one unique copy of each value.\n",
        "\n",
        "14. How does the “in” keyword work differently for lists and dictionaries?\n",
        "    - The \"in\" keyword behaves differently for lists and dictionaries. When we used with a list, it checks whether a value is present in the list by performing a linear search, which has a time complexity of O(n). This means the larger the list, the longer it takes to search. But, when we used with a dictionary, the \"in\" keyword checks for the presence of a key, not the value. It uses hashing for faster lookup, resulting in an O(1) time complexity, making the search process much quicker, even for large dictionaries.        \n",
        "15. Can you modify the elements of a tuple? Explain why or why not?\n",
        "    - We cannot modify the elements of a tuple because tuples are immutable. Once a tuple is created, its elements cannot be changed, added, or removed.\n",
        "This immutability ensures data integrity and makes tuples hashable, allowing them to be used as keys in dictionaries or elements in sets.\n",
        "\n",
        "16. What is a nested dictionary, and give an example of its use case?\n",
        "    - A nested dictionary is a dictionary inside another dictionary. It allows us to store complex data in a structured way by grouping related information together.\n",
        "     Example, A nested dictionary is useful for storing employee details in a company, where each employee has multiple attributes like name, age, and department.\n",
        "17. Describe the time complexity of accessing elements in a dictionary?\n",
        "    - In Python, accessing elements in a dictionary has an average time complexity of O(1).\n",
        "This is because dictionaries use hashing, which allows for constant-time lookups regardless of the dictionary’s size.\n",
        "\n",
        "18. In what situations are lists preferred over dictionaries?\n",
        "    - Lists are preferred over dictionaries in situations where we need to store ordered, simple, and sequential data. They are ideal for small datasets and are more memory-efficient in such cases. Lists allow index-based access, making it easy to retrieve elements by their position. They are also better suited for storing individual values like names or numbers.\n",
        "\n",
        "19. Why are dictionaries considered unordered, and how does that affect data retrieval?\n",
        "    - Dictionaries were considered unordered before Python 3.7 because they used hashing, which didn’t guarantee the insertion order of key-value pairs.\n",
        "    - When dictionaries were unordered, data retrieval was still efficient (O(1) time complexity), but the order of elements was unpredictable. This made dictionaries unsuitable for tasks requiring ordered data, such as maintaining logs or displaying items in a specific sequence.\n",
        "\n",
        "20. Explain the difference between a list and a dictionary in terms of data retrieval.\n",
        "    - The main difference between lists and dictionaries in terms of data retrieval is the way they access elements. Lists use index-based retrieval (e.g., list[0]). This provides O(1) time complexity for direct index access, but searching for a specific value takes O(n) time. In contrast, dictionaries use key-based retrieval, where we access values using their unique keys (e.g., dict['name']). Due to hashing, dictionary lookups have an average time complexity of O(1), making them faster and more efficient for retrieving specific values.        \n",
        "     \n",
        "\n",
        "    \n"
      ],
      "metadata": {
        "id": "2Cng0ln0ywEI"
      }
    },
    {
      "cell_type": "markdown",
      "source": [
        "#Practical Questions"
      ],
      "metadata": {
        "id": "CpV_RQrUX8eI"
      }
    },
    {
      "cell_type": "code",
      "source": [
        "#1 Write a code to create a string with your name and print it.\n",
        "\n",
        "name = \"Pramod\"\n",
        "print(name)"
      ],
      "metadata": {
        "id": "t0woEWmVTCca",
        "colab": {
          "base_uri": "https://localhost:8080/"
        },
        "outputId": "68463825-e448-451c-8bd4-60cfc1b89625"
      },
      "execution_count": 1,
      "outputs": [
        {
          "output_type": "stream",
          "name": "stdout",
          "text": [
            "Pramod\n"
          ]
        }
      ]
    },
    {
      "cell_type": "code",
      "source": [
        "#2 Write a code to find the length of the string \"Hello World\".\n",
        "\n",
        "string1 = \"Hello World\"\n",
        "print(len(string1))"
      ],
      "metadata": {
        "id": "Cv08HK_fYSZq",
        "colab": {
          "base_uri": "https://localhost:8080/"
        },
        "outputId": "924006c2-572b-4b0b-f7ed-4e8fa2df625a"
      },
      "execution_count": 12,
      "outputs": [
        {
          "output_type": "stream",
          "name": "stdout",
          "text": [
            "11\n"
          ]
        }
      ]
    },
    {
      "cell_type": "code",
      "source": [
        "#3 Write a code to slice the first 3 characters from the string \"Python Programming\".\n",
        "\n",
        "string1 = \"Python Programming\"\n",
        "print(string1[0:3])"
      ],
      "metadata": {
        "id": "RCV7G1X5YSrd",
        "colab": {
          "base_uri": "https://localhost:8080/"
        },
        "outputId": "be801e62-249d-4554-e83b-0d4eaf5abfb1"
      },
      "execution_count": 13,
      "outputs": [
        {
          "output_type": "stream",
          "name": "stdout",
          "text": [
            "Pyt\n"
          ]
        }
      ]
    },
    {
      "cell_type": "code",
      "source": [
        "#4 Write a code to convert the string \"hello\" to uppercase.\n",
        "\n",
        "string1 = \"hello\"\n",
        "print(string1.upper())"
      ],
      "metadata": {
        "id": "3_wKgRZJYSyL",
        "colab": {
          "base_uri": "https://localhost:8080/"
        },
        "outputId": "a23bbba9-db98-40fc-f457-2b8bd25e4806"
      },
      "execution_count": 14,
      "outputs": [
        {
          "output_type": "stream",
          "name": "stdout",
          "text": [
            "HELLO\n"
          ]
        }
      ]
    },
    {
      "cell_type": "code",
      "source": [
        "#5 Write a code to replace the word \"apple\" with \"orange\" in the string \"I like apple\".\n",
        "\n",
        "string1 = \"I like apple\"\n",
        "print(string1.replace(\"apple\", \"orange\"))"
      ],
      "metadata": {
        "id": "ZMImNF9FYS1S",
        "colab": {
          "base_uri": "https://localhost:8080/"
        },
        "outputId": "045b8a15-58bf-4fed-fa26-739b7e83ab98"
      },
      "execution_count": 15,
      "outputs": [
        {
          "output_type": "stream",
          "name": "stdout",
          "text": [
            "I like orange\n"
          ]
        }
      ]
    },
    {
      "cell_type": "code",
      "source": [
        "#6 Write a code to create a list with numbers 1 to 5 and print it.\n",
        "\n",
        "list1 = [1, 2, 3, 4, 5]\n",
        "print(list1)\n",
        "\n",
        "# list1 = []\n",
        "# for i in range(1,6):\n",
        "#   list1.append(i)\n",
        "# print(list1)"
      ],
      "metadata": {
        "id": "V0LIw2JLYS4K",
        "colab": {
          "base_uri": "https://localhost:8080/"
        },
        "outputId": "797e8ae5-e964-4d45-87c3-4423c2f5a537"
      },
      "execution_count": 23,
      "outputs": [
        {
          "output_type": "stream",
          "name": "stdout",
          "text": [
            "[1, 2, 3, 4, 5]\n"
          ]
        }
      ]
    },
    {
      "cell_type": "code",
      "source": [
        "#7 Write a code to append the number 10 to the list [1, 2, 3, 4].\n",
        "list1 = [1, 2, 3, 4]\n",
        "list1.append(10)\n",
        "print(list1)"
      ],
      "metadata": {
        "id": "njNmCI62YS61",
        "colab": {
          "base_uri": "https://localhost:8080/"
        },
        "outputId": "d1391d92-6cc8-4be9-e518-f5001bf83da1"
      },
      "execution_count": 17,
      "outputs": [
        {
          "output_type": "stream",
          "name": "stdout",
          "text": [
            "[1, 2, 3, 4, 10]\n"
          ]
        }
      ]
    },
    {
      "cell_type": "code",
      "source": [
        "#8 Write a code to remove the number 3 from the list [1, 2, 3, 4, 5].\n",
        "list1 = [1, 2, 3, 4, 5]\n",
        "list1.remove(3)\n",
        "print(list1)"
      ],
      "metadata": {
        "id": "ILBgo0P-YS_8",
        "colab": {
          "base_uri": "https://localhost:8080/"
        },
        "outputId": "aa859df5-220c-4638-d275-ad39f44c33ef"
      },
      "execution_count": 18,
      "outputs": [
        {
          "output_type": "stream",
          "name": "stdout",
          "text": [
            "[1, 2, 4, 5]\n"
          ]
        }
      ]
    },
    {
      "cell_type": "code",
      "source": [
        "#9 Write a code to access the second element in the list ['a', 'b', 'c', 'd'].\n",
        "list1 = ['a', 'b', 'c', 'd']\n",
        "print(list1[1])"
      ],
      "metadata": {
        "colab": {
          "base_uri": "https://localhost:8080/"
        },
        "id": "v2qAsivnbNgN",
        "outputId": "4eef0584-8cc0-4dad-8e0e-af7d280b10c2"
      },
      "execution_count": 19,
      "outputs": [
        {
          "output_type": "stream",
          "name": "stdout",
          "text": [
            "b\n"
          ]
        }
      ]
    },
    {
      "cell_type": "code",
      "source": [
        "#10 Write a code to reverse the list [10, 20, 30, 40, 50].\n",
        "list1 = [10, 20, 30, 40, 50]\n",
        "list1.reverse()\n",
        "print(list1)"
      ],
      "metadata": {
        "colab": {
          "base_uri": "https://localhost:8080/"
        },
        "id": "r-cCiKBGbNsu",
        "outputId": "d2a02ad3-7150-45cf-efa5-5466cba16f3a"
      },
      "execution_count": 20,
      "outputs": [
        {
          "output_type": "stream",
          "name": "stdout",
          "text": [
            "[50, 40, 30, 20, 10]\n"
          ]
        }
      ]
    },
    {
      "cell_type": "code",
      "source": [
        "#11 Write a code to create a tuple with the elements 100, 200, 300 and print it.\n",
        "tuple1 = (100, 200, 300)\n",
        "print(tuple1)"
      ],
      "metadata": {
        "id": "Vc8PKud_bNu0"
      },
      "execution_count": null,
      "outputs": []
    },
    {
      "cell_type": "code",
      "source": [
        "#12 Write a code to access the second-to-last element of the tuple ('red', 'green', 'blue', 'yellow').\n",
        "tuple1 = ('red', 'green', 'blue', 'yellow')\n",
        "print(tuple1[-2])"
      ],
      "metadata": {
        "colab": {
          "base_uri": "https://localhost:8080/"
        },
        "id": "WrBm_6VEbNxP",
        "outputId": "0dc6ab09-da86-45ba-89d5-95ab6687020e"
      },
      "execution_count": 22,
      "outputs": [
        {
          "output_type": "stream",
          "name": "stdout",
          "text": [
            "blue\n"
          ]
        }
      ]
    },
    {
      "cell_type": "code",
      "source": [
        "#13 Write a code to find the minimum number in the tuple (10, 20, 5, 15).\n",
        "tuple1 = (10, 20, 5, 15)\n",
        "print(min(tuple1))"
      ],
      "metadata": {
        "colab": {
          "base_uri": "https://localhost:8080/"
        },
        "id": "fFzTKCs8bNzk",
        "outputId": "fd5e9bbf-371f-4548-bfdd-984798f9153b"
      },
      "execution_count": 24,
      "outputs": [
        {
          "output_type": "stream",
          "name": "stdout",
          "text": [
            "5\n"
          ]
        }
      ]
    },
    {
      "cell_type": "code",
      "source": [
        "#14 Write a code to find the index of the element \"cat\" in the tuple ('dog', 'cat', 'rabbit').\n",
        "tuple1 = ('dog', 'cat', 'rabbit')\n",
        "print(tuple1.index(\"cat\"))"
      ],
      "metadata": {
        "colab": {
          "base_uri": "https://localhost:8080/"
        },
        "id": "euuNOcoIbN12",
        "outputId": "fcc3b1e2-556f-4aa1-80c9-0f08cf677556"
      },
      "execution_count": 25,
      "outputs": [
        {
          "output_type": "stream",
          "name": "stdout",
          "text": [
            "1\n"
          ]
        }
      ]
    },
    {
      "cell_type": "code",
      "source": [
        "#15  Write a code to create a tuple containing three different fruits and check if \"kiwi\" is in it.\n",
        "tuple1 = (\"apple\", \"banana\", \"mango\")\n",
        "print(\"kiwi\" in tuple1)"
      ],
      "metadata": {
        "colab": {
          "base_uri": "https://localhost:8080/"
        },
        "id": "XvgBo_JybN4U",
        "outputId": "2bcb7447-4499-491a-8bd3-2f1cbdaa6c94"
      },
      "execution_count": 26,
      "outputs": [
        {
          "output_type": "stream",
          "name": "stdout",
          "text": [
            "False\n"
          ]
        }
      ]
    },
    {
      "cell_type": "code",
      "source": [
        "#16 Write a code to create a set with the elements 'a', 'b', 'c' and print it.\n",
        "set1 = {'a', 'b', 'c'}\n",
        "print(set1)"
      ],
      "metadata": {
        "colab": {
          "base_uri": "https://localhost:8080/"
        },
        "id": "rqT6Cn7abN6x",
        "outputId": "0819f52b-7458-4afe-bd2f-fbe23e719fd8"
      },
      "execution_count": 27,
      "outputs": [
        {
          "output_type": "stream",
          "name": "stdout",
          "text": [
            "{'b', 'a', 'c'}\n"
          ]
        }
      ]
    },
    {
      "cell_type": "code",
      "source": [
        "#17 Write a code to clear all elements from the set {1, 2, 3, 4, 5}.\n",
        "set1 = {1, 2, 3, 4, 5}\n",
        "set1.clear()\n",
        "print(set1)"
      ],
      "metadata": {
        "colab": {
          "base_uri": "https://localhost:8080/"
        },
        "id": "VKHmPPjDbN9F",
        "outputId": "27461046-dd9b-454d-c620-69d3cb3120fc"
      },
      "execution_count": 28,
      "outputs": [
        {
          "output_type": "stream",
          "name": "stdout",
          "text": [
            "set()\n"
          ]
        }
      ]
    },
    {
      "cell_type": "code",
      "source": [
        "#18 Write a code to remove the element 4 from the set {1, 2, 3, 4}.\n",
        "set1 = {1, 2, 3, 4}\n",
        "set1.remove(4)\n",
        "print(set1)"
      ],
      "metadata": {
        "colab": {
          "base_uri": "https://localhost:8080/"
        },
        "id": "1Q3WK_TebN_f",
        "outputId": "a641cb44-a0a4-4541-d2df-22351915e948"
      },
      "execution_count": 29,
      "outputs": [
        {
          "output_type": "stream",
          "name": "stdout",
          "text": [
            "{1, 2, 3}\n"
          ]
        }
      ]
    },
    {
      "cell_type": "code",
      "source": [
        "#19 Write a code to find the union of two sets {1, 2, 3} and {3, 4, 5}.\n",
        "set1 = {1, 2, 3}\n",
        "set2 = {3, 4, 5}\n",
        "\n",
        "print(set1 | set2)"
      ],
      "metadata": {
        "colab": {
          "base_uri": "https://localhost:8080/"
        },
        "id": "MPDrfWblbOB7",
        "outputId": "c8fa75ee-d0ba-48db-8750-e7a534e10b18"
      },
      "execution_count": 31,
      "outputs": [
        {
          "output_type": "stream",
          "name": "stdout",
          "text": [
            "{1, 2, 3, 4, 5}\n"
          ]
        }
      ]
    },
    {
      "cell_type": "code",
      "source": [
        "#20 Write a code to find the intersection of two sets {1, 2, 3} and {2, 3, 4}.\n",
        "set1 = {1, 2, 3}\n",
        "set2 = {2, 3, 4}\n",
        "\n",
        "print(set1 & set2)"
      ],
      "metadata": {
        "colab": {
          "base_uri": "https://localhost:8080/"
        },
        "id": "5vxpAGiXbOFS",
        "outputId": "41d23f2a-1c3b-4ca3-eecf-c0aedf1e1d11"
      },
      "execution_count": 32,
      "outputs": [
        {
          "output_type": "stream",
          "name": "stdout",
          "text": [
            "{2, 3}\n"
          ]
        }
      ]
    },
    {
      "cell_type": "code",
      "source": [
        "#21 Write a code to create a dictionary with the keys \"name\", \"age\", and \"city\", and print it.\n",
        "dict1 = {\"name\": \"Rohan\", \"age\": 21, \"city\": \"Mumbai\"}\n",
        "print(dict1)"
      ],
      "metadata": {
        "colab": {
          "base_uri": "https://localhost:8080/"
        },
        "id": "nN3grgEFmvaH",
        "outputId": "87f80a89-991c-4c22-8c10-49a607eec0dc"
      },
      "execution_count": 33,
      "outputs": [
        {
          "output_type": "stream",
          "name": "stdout",
          "text": [
            "{'name': 'Rohan', 'age': 21, 'city': 'Mumbai'}\n"
          ]
        }
      ]
    },
    {
      "cell_type": "code",
      "source": [
        "#22 Write a code to add a new key-value pair \"country\": \"USA\" to the dictionary {'name': 'John', 'age': 25}.\n",
        "dict1 = {'name': 'John', 'age': 25}\n",
        "dict1[\"country\"] = \"USA\"\n",
        "print(dict1)"
      ],
      "metadata": {
        "colab": {
          "base_uri": "https://localhost:8080/"
        },
        "id": "gyQM31vpmwwZ",
        "outputId": "365d0273-6801-47b2-8af5-b7cea4cda26e"
      },
      "execution_count": 34,
      "outputs": [
        {
          "output_type": "stream",
          "name": "stdout",
          "text": [
            "{'name': 'John', 'age': 25, 'country': 'USA'}\n"
          ]
        }
      ]
    },
    {
      "cell_type": "code",
      "source": [
        "#23 Write a code to access the value associated with the key \"name\" in the dictionary {'name': 'Alice', 'age': 30}.\n",
        "dict1 = {'name': 'Alice', 'age': 30}\n",
        "print(dict1[\"name\"])"
      ],
      "metadata": {
        "colab": {
          "base_uri": "https://localhost:8080/"
        },
        "id": "CgJvprmAmvWt",
        "outputId": "c0f7104a-3f38-4b31-ea22-409808d1457f"
      },
      "execution_count": 35,
      "outputs": [
        {
          "output_type": "stream",
          "name": "stdout",
          "text": [
            "Alice\n"
          ]
        }
      ]
    },
    {
      "cell_type": "code",
      "source": [
        "#24 Write a code to remove the key \"age\" from the dictionary {'name': 'Bob', 'age': 22, 'city': 'New York'}.\n",
        "dict1 = {'name': 'Bob', 'age': 22, 'city': 'New York'}\n",
        "dict1.pop(\"age\")\n",
        "print(dict1)"
      ],
      "metadata": {
        "colab": {
          "base_uri": "https://localhost:8080/"
        },
        "id": "ZMMDVT4kmvUS",
        "outputId": "f0c39e62-6e61-40ee-de24-e679ebb5bf2f"
      },
      "execution_count": 36,
      "outputs": [
        {
          "output_type": "stream",
          "name": "stdout",
          "text": [
            "{'name': 'Bob', 'city': 'New York'}\n"
          ]
        }
      ]
    },
    {
      "cell_type": "code",
      "source": [
        "#25 Write a code to check if the key \"city\" exists in the dictionary {'name': 'Alice', 'city': 'Paris'}.\n",
        "dict1 = {'name': 'Alice', 'city': 'Paris'}\n",
        "print(\"city\" in dict1)"
      ],
      "metadata": {
        "colab": {
          "base_uri": "https://localhost:8080/"
        },
        "id": "LBwDuoHDmvSF",
        "outputId": "3a4a2de2-ee0c-49ea-9d02-747f748f0d47"
      },
      "execution_count": 37,
      "outputs": [
        {
          "output_type": "stream",
          "name": "stdout",
          "text": [
            "True\n"
          ]
        }
      ]
    },
    {
      "cell_type": "code",
      "source": [
        "#26 Write a code to create a list, a tuple, and a dictionary, and print them all.\n",
        "list1 = [1, 2, 3, 4]\n",
        "tuple1 = (1, 2, 3, 4)\n",
        "dict1 = {\"name\": \"Rohan\", \"age\": 21, \"city\": \"Mumbai\"}\n",
        "print(list1)\n",
        "print(tuple1)\n",
        "print(dict1)"
      ],
      "metadata": {
        "colab": {
          "base_uri": "https://localhost:8080/"
        },
        "id": "-ms-6DV2mvPs",
        "outputId": "dff783cd-bcb3-4a7b-efcc-d66872ae334c"
      },
      "execution_count": 38,
      "outputs": [
        {
          "output_type": "stream",
          "name": "stdout",
          "text": [
            "[1, 2, 3, 4]\n",
            "(1, 2, 3, 4)\n",
            "{'name': 'Rohan', 'age': 21, 'city': 'Mumbai'}\n"
          ]
        }
      ]
    },
    {
      "cell_type": "code",
      "source": [
        "#27 Write a code to create a list of 5 random numbers between 1 and 100, sort it in ascending order, and print the result.(replaced)\n",
        "import random\n",
        "list1 = []\n",
        "for i in range(5):\n",
        "  list1.append(random.randint(1, 100))\n",
        "list1.sort()\n",
        "print(list1)\n"
      ],
      "metadata": {
        "colab": {
          "base_uri": "https://localhost:8080/"
        },
        "id": "w0jv6GxvmvM9",
        "outputId": "24236c92-6509-4c15-fd8a-2620a3b9d176"
      },
      "execution_count": 39,
      "outputs": [
        {
          "output_type": "stream",
          "name": "stdout",
          "text": [
            "[32, 53, 62, 72, 99]\n"
          ]
        }
      ]
    },
    {
      "cell_type": "code",
      "source": [
        "#28 Write a code to create a list with strings and print the element at the third index.\n",
        "list1 = [\"apple\", \"banana\", \"mango\", \"orange\"]\n",
        "print(list1[3])"
      ],
      "metadata": {
        "colab": {
          "base_uri": "https://localhost:8080/"
        },
        "id": "WW1Y-RV7mvKV",
        "outputId": "84b8e126-68f5-41e0-b0fd-522f2e35bb49"
      },
      "execution_count": 41,
      "outputs": [
        {
          "output_type": "stream",
          "name": "stdout",
          "text": [
            "orange\n"
          ]
        }
      ]
    },
    {
      "cell_type": "code",
      "source": [
        "#29 Write a code to combine two dictionaries into one and print the result.\n",
        "dict1 = {\"name\": \"Rohan\", \"age\": 21, \"city\": \"Mumbai\"}\n",
        "dict2 = {\"country\": \"India\", \"state\": \"Maharashtra\"}\n",
        "dict1.update(dict2)\n",
        "print(dict1)"
      ],
      "metadata": {
        "colab": {
          "base_uri": "https://localhost:8080/"
        },
        "id": "9WlYGthEmu5t",
        "outputId": "2f61a3d7-7d2e-40b0-cee5-df0a717cff10"
      },
      "execution_count": 42,
      "outputs": [
        {
          "output_type": "stream",
          "name": "stdout",
          "text": [
            "{'name': 'Rohan', 'age': 21, 'city': 'Mumbai', 'country': 'India', 'state': 'Maharashtra'}\n"
          ]
        }
      ]
    },
    {
      "cell_type": "code",
      "source": [
        "#30 Write a code to convert a list of strings into a set.\n",
        "list1 = [\"apple\", \"banana\", \"mango\", \"orange\"]\n",
        "set1 = set(list1)\n",
        "print(set1)"
      ],
      "metadata": {
        "colab": {
          "base_uri": "https://localhost:8080/"
        },
        "id": "pCXIsx9bmurH",
        "outputId": "12d49068-1512-46e4-8821-d1350cebbc73"
      },
      "execution_count": 43,
      "outputs": [
        {
          "output_type": "stream",
          "name": "stdout",
          "text": [
            "{'banana', 'orange', 'apple', 'mango'}\n"
          ]
        }
      ]
    }
  ]
}